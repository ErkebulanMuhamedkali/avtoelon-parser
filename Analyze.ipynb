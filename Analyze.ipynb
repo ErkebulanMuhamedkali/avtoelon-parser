{
 "cells": [
  {
   "cell_type": "markdown",
   "metadata": {},
   "source": [
    "# Analysis of the parsed data from the site Avtoelon.uz"
   ]
  },
  {
   "cell_type": "markdown",
   "metadata": {},
   "source": [
    "## We need to find:"
   ]
  },
  {
   "cell_type": "markdown",
   "metadata": {},
   "source": [
    "1) How many car brands are there on the site and show only top-10 of them on the diagram;\n",
    "\n",
    "2) How many regions are there in Uzbekistan, including cities. Show top-10 selling of them;\n",
    "\n",
    "3) How many ads are in cities and in regions separatly, show it in diagrams;\n",
    "\n",
    "4) What car is the most popular in top-10 cities and regions separatly, show it on diagrams;\n",
    "\n",
    "5) What are average prices of all cars in every city and region;\n",
    "\n",
    "6) What is the average price of top-10 most popular cars in cities and regions separatly.\n",
    "\n",
    "7) How top-3 cars behave"
   ]
  },
  {
   "cell_type": "markdown",
   "metadata": {},
   "source": [
    "------------------------------------------------------------------------------------------"
   ]
  },
  {
   "cell_type": "markdown",
   "metadata": {},
   "source": [
    "### First of all let's import libraries which we would need:"
   ]
  },
  {
   "cell_type": "code",
   "execution_count": 4,
   "metadata": {},
   "outputs": [
    {
     "ename": "ModuleNotFoundError",
     "evalue": "No module named 'matplotlib'",
     "output_type": "error",
     "traceback": [
      "\u001b[1;31m---------------------------------------------------------------------------\u001b[0m",
      "\u001b[1;31mModuleNotFoundError\u001b[0m                       Traceback (most recent call last)",
      "\u001b[1;32m<ipython-input-4-b478a6fd18e5>\u001b[0m in \u001b[0;36m<module>\u001b[1;34m\u001b[0m\n\u001b[0;32m      1\u001b[0m \u001b[1;32mimport\u001b[0m \u001b[0mpandas\u001b[0m \u001b[1;32mas\u001b[0m \u001b[0mpd\u001b[0m\u001b[1;33m\u001b[0m\u001b[1;33m\u001b[0m\u001b[0m\n\u001b[0;32m      2\u001b[0m \u001b[1;32mimport\u001b[0m \u001b[0mnumpy\u001b[0m \u001b[1;32mas\u001b[0m \u001b[0mnp\u001b[0m\u001b[1;33m\u001b[0m\u001b[1;33m\u001b[0m\u001b[0m\n\u001b[1;32m----> 3\u001b[1;33m \u001b[1;32mimport\u001b[0m \u001b[0mmatplotlib\u001b[0m\u001b[1;33m.\u001b[0m\u001b[0mpyplot\u001b[0m \u001b[1;32mas\u001b[0m \u001b[0mplt\u001b[0m\u001b[1;33m\u001b[0m\u001b[1;33m\u001b[0m\u001b[0m\n\u001b[0m",
      "\u001b[1;31mModuleNotFoundError\u001b[0m: No module named 'matplotlib'"
     ]
    }
   ],
   "source": [
    "import pandas as pd\n",
    "import numpy as np\n",
    "import matplotlib.pyplot as plt"
   ]
  },
  {
   "cell_type": "markdown",
   "metadata": {},
   "source": [
    "<strong>Now we want to open open our CSV file with complete parsed data (relevant at November 13th)</strong>"
   ]
  },
  {
   "cell_type": "code",
   "execution_count": 2,
   "metadata": {
    "scrolled": false
   },
   "outputs": [
    {
     "data": {
      "text/html": [
       "<div>\n",
       "<style scoped>\n",
       "    .dataframe tbody tr th:only-of-type {\n",
       "        vertical-align: middle;\n",
       "    }\n",
       "\n",
       "    .dataframe tbody tr th {\n",
       "        vertical-align: top;\n",
       "    }\n",
       "\n",
       "    .dataframe thead th {\n",
       "        text-align: right;\n",
       "    }\n",
       "</style>\n",
       "<table border=\"1\" class=\"dataframe\">\n",
       "  <thead>\n",
       "    <tr style=\"text-align: right;\">\n",
       "      <th></th>\n",
       "      <th>id</th>\n",
       "      <th>brand</th>\n",
       "      <th>name</th>\n",
       "      <th>year</th>\n",
       "      <th>price</th>\n",
       "      <th>Город</th>\n",
       "      <th>Объем двигателя, л</th>\n",
       "      <th>Кузов</th>\n",
       "      <th>Пробег</th>\n",
       "      <th>Коробка передач</th>\n",
       "      <th>Цвет</th>\n",
       "      <th>Привод</th>\n",
       "      <th>Есть доставка</th>\n",
       "    </tr>\n",
       "  </thead>\n",
       "  <tbody>\n",
       "    <tr>\n",
       "      <th>0</th>\n",
       "      <td>1214637</td>\n",
       "      <td>Daewoo</td>\n",
       "      <td>Nexia</td>\n",
       "      <td>2010</td>\n",
       "      <td>5974</td>\n",
       "      <td>Денау</td>\n",
       "      <td>1.5 (газ-бензин)</td>\n",
       "      <td>седан</td>\n",
       "      <td>71000.0</td>\n",
       "      <td>механика</td>\n",
       "      <td>белый</td>\n",
       "      <td>передний привод</td>\n",
       "      <td>NaN</td>\n",
       "    </tr>\n",
       "    <tr>\n",
       "      <th>1</th>\n",
       "      <td>1216327</td>\n",
       "      <td>Chevrolet</td>\n",
       "      <td>Tracker,</td>\n",
       "      <td>2019</td>\n",
       "      <td>19000</td>\n",
       "      <td>Ташкент</td>\n",
       "      <td>1.8 (бензин)</td>\n",
       "      <td>кроссовер</td>\n",
       "      <td>14000.0</td>\n",
       "      <td>автомат</td>\n",
       "      <td>белый</td>\n",
       "      <td>передний привод</td>\n",
       "      <td>Да</td>\n",
       "    </tr>\n",
       "    <tr>\n",
       "      <th>2</th>\n",
       "      <td>1084744</td>\n",
       "      <td>Chevrolet</td>\n",
       "      <td>Malibu,</td>\n",
       "      <td>2012</td>\n",
       "      <td>12000</td>\n",
       "      <td>Ташкент</td>\n",
       "      <td>2.4 (бензин)</td>\n",
       "      <td>седан</td>\n",
       "      <td>119800.0</td>\n",
       "      <td>механика</td>\n",
       "      <td>бежевый</td>\n",
       "      <td>передний привод</td>\n",
       "      <td>NaN</td>\n",
       "    </tr>\n",
       "    <tr>\n",
       "      <th>3</th>\n",
       "      <td>1216263</td>\n",
       "      <td>Chevrolet</td>\n",
       "      <td>Nexia 3,</td>\n",
       "      <td>2020</td>\n",
       "      <td>4800</td>\n",
       "      <td>Самарканд</td>\n",
       "      <td>1.5 (бензин)</td>\n",
       "      <td>седан</td>\n",
       "      <td>5000.0</td>\n",
       "      <td>автомат</td>\n",
       "      <td>белый</td>\n",
       "      <td>передний привод</td>\n",
       "      <td>Да</td>\n",
       "    </tr>\n",
       "    <tr>\n",
       "      <th>4</th>\n",
       "      <td>1183835</td>\n",
       "      <td>BMW</td>\n",
       "      <td>X5</td>\n",
       "      <td>2006</td>\n",
       "      <td>22000</td>\n",
       "      <td>Фергана</td>\n",
       "      <td>3 (бензин)</td>\n",
       "      <td>внедорожник</td>\n",
       "      <td>102000.0</td>\n",
       "      <td>типтроник</td>\n",
       "      <td>черный</td>\n",
       "      <td>полный привод</td>\n",
       "      <td>NaN</td>\n",
       "    </tr>\n",
       "    <tr>\n",
       "      <th>...</th>\n",
       "      <td>...</td>\n",
       "      <td>...</td>\n",
       "      <td>...</td>\n",
       "      <td>...</td>\n",
       "      <td>...</td>\n",
       "      <td>...</td>\n",
       "      <td>...</td>\n",
       "      <td>...</td>\n",
       "      <td>...</td>\n",
       "      <td>...</td>\n",
       "      <td>...</td>\n",
       "      <td>...</td>\n",
       "      <td>...</td>\n",
       "    </tr>\n",
       "    <tr>\n",
       "      <th>19990</th>\n",
       "      <td>1193235</td>\n",
       "      <td>Chevrolet</td>\n",
       "      <td>Damas</td>\n",
       "      <td>2020</td>\n",
       "      <td>7800</td>\n",
       "      <td>Ташкент</td>\n",
       "      <td>NaN</td>\n",
       "      <td>микровэн</td>\n",
       "      <td>NaN</td>\n",
       "      <td>механика</td>\n",
       "      <td>белый</td>\n",
       "      <td>задний привод</td>\n",
       "      <td>NaN</td>\n",
       "    </tr>\n",
       "    <tr>\n",
       "      <th>19991</th>\n",
       "      <td>1193233</td>\n",
       "      <td>Chevrolet</td>\n",
       "      <td>Matiz,</td>\n",
       "      <td>2008</td>\n",
       "      <td>3700</td>\n",
       "      <td>Андижан</td>\n",
       "      <td>0.8 (газ-бензин)</td>\n",
       "      <td>хэтчбек</td>\n",
       "      <td>138000.0</td>\n",
       "      <td>механика</td>\n",
       "      <td>серебристый</td>\n",
       "      <td>передний привод</td>\n",
       "      <td>NaN</td>\n",
       "    </tr>\n",
       "    <tr>\n",
       "      <th>19992</th>\n",
       "      <td>1193182</td>\n",
       "      <td>Chevrolet</td>\n",
       "      <td>Nexia 2,</td>\n",
       "      <td>2008</td>\n",
       "      <td>4700</td>\n",
       "      <td>Ургенч</td>\n",
       "      <td>1.5 (газ-бензин)</td>\n",
       "      <td>седан</td>\n",
       "      <td>NaN</td>\n",
       "      <td>механика</td>\n",
       "      <td>NaN</td>\n",
       "      <td>передний привод</td>\n",
       "      <td>NaN</td>\n",
       "    </tr>\n",
       "    <tr>\n",
       "      <th>19993</th>\n",
       "      <td>1095162</td>\n",
       "      <td>Daewoo</td>\n",
       "      <td>Nexia</td>\n",
       "      <td>2005</td>\n",
       "      <td>4800</td>\n",
       "      <td>Бухара</td>\n",
       "      <td>1.5 (газ-бензин)</td>\n",
       "      <td>седан</td>\n",
       "      <td>163000.0</td>\n",
       "      <td>механика</td>\n",
       "      <td>NaN</td>\n",
       "      <td>NaN</td>\n",
       "      <td>NaN</td>\n",
       "    </tr>\n",
       "    <tr>\n",
       "      <th>19994</th>\n",
       "      <td>1193240</td>\n",
       "      <td>Chevrolet</td>\n",
       "      <td>Nexia 2,</td>\n",
       "      <td>2015</td>\n",
       "      <td>7000</td>\n",
       "      <td>Самаркандский район</td>\n",
       "      <td>1.5 (бензин)</td>\n",
       "      <td>седан</td>\n",
       "      <td>NaN</td>\n",
       "      <td>механика</td>\n",
       "      <td>белый</td>\n",
       "      <td>передний привод</td>\n",
       "      <td>Да</td>\n",
       "    </tr>\n",
       "  </tbody>\n",
       "</table>\n",
       "<p>19995 rows × 13 columns</p>\n",
       "</div>"
      ],
      "text/plain": [
       "            id      brand      name  year  price                Город  \\\n",
       "0      1214637     Daewoo     Nexia  2010   5974                Денау   \n",
       "1      1216327  Chevrolet  Tracker,  2019  19000              Ташкент   \n",
       "2      1084744  Chevrolet   Malibu,  2012  12000              Ташкент   \n",
       "3      1216263  Chevrolet  Nexia 3,  2020   4800            Самарканд   \n",
       "4      1183835        BMW        X5  2006  22000              Фергана   \n",
       "...        ...        ...       ...   ...    ...                  ...   \n",
       "19990  1193235  Chevrolet     Damas  2020   7800              Ташкент   \n",
       "19991  1193233  Chevrolet    Matiz,  2008   3700              Андижан   \n",
       "19992  1193182  Chevrolet  Nexia 2,  2008   4700               Ургенч   \n",
       "19993  1095162     Daewoo     Nexia  2005   4800               Бухара   \n",
       "19994  1193240  Chevrolet  Nexia 2,  2015   7000  Самаркандский район   \n",
       "\n",
       "      Объем двигателя, л        Кузов    Пробег Коробка передач         Цвет  \\\n",
       "0       1.5 (газ-бензин)        седан   71000.0        механика        белый   \n",
       "1           1.8 (бензин)    кроссовер   14000.0         автомат        белый   \n",
       "2           2.4 (бензин)        седан  119800.0        механика      бежевый   \n",
       "3           1.5 (бензин)        седан    5000.0         автомат        белый   \n",
       "4             3 (бензин)  внедорожник  102000.0       типтроник       черный   \n",
       "...                  ...          ...       ...             ...          ...   \n",
       "19990                NaN     микровэн       NaN        механика        белый   \n",
       "19991   0.8 (газ-бензин)      хэтчбек  138000.0        механика  серебристый   \n",
       "19992   1.5 (газ-бензин)        седан       NaN        механика          NaN   \n",
       "19993   1.5 (газ-бензин)        седан  163000.0        механика          NaN   \n",
       "19994       1.5 (бензин)        седан       NaN        механика        белый   \n",
       "\n",
       "                Привод Есть доставка  \n",
       "0      передний привод           NaN  \n",
       "1      передний привод            Да  \n",
       "2      передний привод           NaN  \n",
       "3      передний привод            Да  \n",
       "4        полный привод           NaN  \n",
       "...                ...           ...  \n",
       "19990    задний привод           NaN  \n",
       "19991  передний привод           NaN  \n",
       "19992  передний привод           NaN  \n",
       "19993              NaN           NaN  \n",
       "19994  передний привод            Да  \n",
       "\n",
       "[19995 rows x 13 columns]"
      ]
     },
     "execution_count": 2,
     "metadata": {},
     "output_type": "execute_result"
    }
   ],
   "source": [
    "advertsDF = pd.read_csv('list.csv') #advertsDF is our table with info\n",
    "advertsDF"
   ]
  },
  {
   "cell_type": "markdown",
   "metadata": {},
   "source": [
    "<strong>We see that we have 19,995 adverts and some information about them.</strong>"
   ]
  },
  {
   "cell_type": "markdown",
   "metadata": {},
   "source": [
    "------------------------------------------------------------------------------------------"
   ]
  },
  {
   "cell_type": "markdown",
   "metadata": {},
   "source": [
    "### On the site you can promote your ad so it always could be on the top of the page. So we need to get rid of these duplicates"
   ]
  },
  {
   "cell_type": "code",
   "execution_count": 3,
   "metadata": {},
   "outputs": [
    {
     "data": {
      "text/html": [
       "<div>\n",
       "<style scoped>\n",
       "    .dataframe tbody tr th:only-of-type {\n",
       "        vertical-align: middle;\n",
       "    }\n",
       "\n",
       "    .dataframe tbody tr th {\n",
       "        vertical-align: top;\n",
       "    }\n",
       "\n",
       "    .dataframe thead th {\n",
       "        text-align: right;\n",
       "    }\n",
       "</style>\n",
       "<table border=\"1\" class=\"dataframe\">\n",
       "  <thead>\n",
       "    <tr style=\"text-align: right;\">\n",
       "      <th></th>\n",
       "      <th>id</th>\n",
       "      <th>brand</th>\n",
       "      <th>name</th>\n",
       "      <th>year</th>\n",
       "      <th>price</th>\n",
       "      <th>Город</th>\n",
       "      <th>Объем двигателя, л</th>\n",
       "      <th>Кузов</th>\n",
       "      <th>Пробег</th>\n",
       "      <th>Коробка передач</th>\n",
       "      <th>Цвет</th>\n",
       "      <th>Привод</th>\n",
       "      <th>Есть доставка</th>\n",
       "    </tr>\n",
       "  </thead>\n",
       "  <tbody>\n",
       "    <tr>\n",
       "      <th>0</th>\n",
       "      <td>1214637</td>\n",
       "      <td>Daewoo</td>\n",
       "      <td>Nexia</td>\n",
       "      <td>2010</td>\n",
       "      <td>5974</td>\n",
       "      <td>Денау</td>\n",
       "      <td>1.5 (газ-бензин)</td>\n",
       "      <td>седан</td>\n",
       "      <td>71000.0</td>\n",
       "      <td>механика</td>\n",
       "      <td>белый</td>\n",
       "      <td>передний привод</td>\n",
       "      <td>NaN</td>\n",
       "    </tr>\n",
       "    <tr>\n",
       "      <th>1</th>\n",
       "      <td>1216327</td>\n",
       "      <td>Chevrolet</td>\n",
       "      <td>Tracker,</td>\n",
       "      <td>2019</td>\n",
       "      <td>19000</td>\n",
       "      <td>Ташкент</td>\n",
       "      <td>1.8 (бензин)</td>\n",
       "      <td>кроссовер</td>\n",
       "      <td>14000.0</td>\n",
       "      <td>автомат</td>\n",
       "      <td>белый</td>\n",
       "      <td>передний привод</td>\n",
       "      <td>Да</td>\n",
       "    </tr>\n",
       "    <tr>\n",
       "      <th>2</th>\n",
       "      <td>1084744</td>\n",
       "      <td>Chevrolet</td>\n",
       "      <td>Malibu,</td>\n",
       "      <td>2012</td>\n",
       "      <td>12000</td>\n",
       "      <td>Ташкент</td>\n",
       "      <td>2.4 (бензин)</td>\n",
       "      <td>седан</td>\n",
       "      <td>119800.0</td>\n",
       "      <td>механика</td>\n",
       "      <td>бежевый</td>\n",
       "      <td>передний привод</td>\n",
       "      <td>NaN</td>\n",
       "    </tr>\n",
       "    <tr>\n",
       "      <th>3</th>\n",
       "      <td>1216263</td>\n",
       "      <td>Chevrolet</td>\n",
       "      <td>Nexia 3,</td>\n",
       "      <td>2020</td>\n",
       "      <td>4800</td>\n",
       "      <td>Самарканд</td>\n",
       "      <td>1.5 (бензин)</td>\n",
       "      <td>седан</td>\n",
       "      <td>5000.0</td>\n",
       "      <td>автомат</td>\n",
       "      <td>белый</td>\n",
       "      <td>передний привод</td>\n",
       "      <td>Да</td>\n",
       "    </tr>\n",
       "    <tr>\n",
       "      <th>4</th>\n",
       "      <td>1183835</td>\n",
       "      <td>BMW</td>\n",
       "      <td>X5</td>\n",
       "      <td>2006</td>\n",
       "      <td>22000</td>\n",
       "      <td>Фергана</td>\n",
       "      <td>3 (бензин)</td>\n",
       "      <td>внедорожник</td>\n",
       "      <td>102000.0</td>\n",
       "      <td>типтроник</td>\n",
       "      <td>черный</td>\n",
       "      <td>полный привод</td>\n",
       "      <td>NaN</td>\n",
       "    </tr>\n",
       "    <tr>\n",
       "      <th>...</th>\n",
       "      <td>...</td>\n",
       "      <td>...</td>\n",
       "      <td>...</td>\n",
       "      <td>...</td>\n",
       "      <td>...</td>\n",
       "      <td>...</td>\n",
       "      <td>...</td>\n",
       "      <td>...</td>\n",
       "      <td>...</td>\n",
       "      <td>...</td>\n",
       "      <td>...</td>\n",
       "      <td>...</td>\n",
       "      <td>...</td>\n",
       "    </tr>\n",
       "    <tr>\n",
       "      <th>19990</th>\n",
       "      <td>1193235</td>\n",
       "      <td>Chevrolet</td>\n",
       "      <td>Damas</td>\n",
       "      <td>2020</td>\n",
       "      <td>7800</td>\n",
       "      <td>Ташкент</td>\n",
       "      <td>NaN</td>\n",
       "      <td>микровэн</td>\n",
       "      <td>NaN</td>\n",
       "      <td>механика</td>\n",
       "      <td>белый</td>\n",
       "      <td>задний привод</td>\n",
       "      <td>NaN</td>\n",
       "    </tr>\n",
       "    <tr>\n",
       "      <th>19991</th>\n",
       "      <td>1193233</td>\n",
       "      <td>Chevrolet</td>\n",
       "      <td>Matiz,</td>\n",
       "      <td>2008</td>\n",
       "      <td>3700</td>\n",
       "      <td>Андижан</td>\n",
       "      <td>0.8 (газ-бензин)</td>\n",
       "      <td>хэтчбек</td>\n",
       "      <td>138000.0</td>\n",
       "      <td>механика</td>\n",
       "      <td>серебристый</td>\n",
       "      <td>передний привод</td>\n",
       "      <td>NaN</td>\n",
       "    </tr>\n",
       "    <tr>\n",
       "      <th>19992</th>\n",
       "      <td>1193182</td>\n",
       "      <td>Chevrolet</td>\n",
       "      <td>Nexia 2,</td>\n",
       "      <td>2008</td>\n",
       "      <td>4700</td>\n",
       "      <td>Ургенч</td>\n",
       "      <td>1.5 (газ-бензин)</td>\n",
       "      <td>седан</td>\n",
       "      <td>NaN</td>\n",
       "      <td>механика</td>\n",
       "      <td>NaN</td>\n",
       "      <td>передний привод</td>\n",
       "      <td>NaN</td>\n",
       "    </tr>\n",
       "    <tr>\n",
       "      <th>19993</th>\n",
       "      <td>1095162</td>\n",
       "      <td>Daewoo</td>\n",
       "      <td>Nexia</td>\n",
       "      <td>2005</td>\n",
       "      <td>4800</td>\n",
       "      <td>Бухара</td>\n",
       "      <td>1.5 (газ-бензин)</td>\n",
       "      <td>седан</td>\n",
       "      <td>163000.0</td>\n",
       "      <td>механика</td>\n",
       "      <td>NaN</td>\n",
       "      <td>NaN</td>\n",
       "      <td>NaN</td>\n",
       "    </tr>\n",
       "    <tr>\n",
       "      <th>19994</th>\n",
       "      <td>1193240</td>\n",
       "      <td>Chevrolet</td>\n",
       "      <td>Nexia 2,</td>\n",
       "      <td>2015</td>\n",
       "      <td>7000</td>\n",
       "      <td>Самаркандский район</td>\n",
       "      <td>1.5 (бензин)</td>\n",
       "      <td>седан</td>\n",
       "      <td>NaN</td>\n",
       "      <td>механика</td>\n",
       "      <td>белый</td>\n",
       "      <td>передний привод</td>\n",
       "      <td>Да</td>\n",
       "    </tr>\n",
       "  </tbody>\n",
       "</table>\n",
       "<p>19859 rows × 13 columns</p>\n",
       "</div>"
      ],
      "text/plain": [
       "            id      brand      name  year  price                Город  \\\n",
       "0      1214637     Daewoo     Nexia  2010   5974                Денау   \n",
       "1      1216327  Chevrolet  Tracker,  2019  19000              Ташкент   \n",
       "2      1084744  Chevrolet   Malibu,  2012  12000              Ташкент   \n",
       "3      1216263  Chevrolet  Nexia 3,  2020   4800            Самарканд   \n",
       "4      1183835        BMW        X5  2006  22000              Фергана   \n",
       "...        ...        ...       ...   ...    ...                  ...   \n",
       "19990  1193235  Chevrolet     Damas  2020   7800              Ташкент   \n",
       "19991  1193233  Chevrolet    Matiz,  2008   3700              Андижан   \n",
       "19992  1193182  Chevrolet  Nexia 2,  2008   4700               Ургенч   \n",
       "19993  1095162     Daewoo     Nexia  2005   4800               Бухара   \n",
       "19994  1193240  Chevrolet  Nexia 2,  2015   7000  Самаркандский район   \n",
       "\n",
       "      Объем двигателя, л        Кузов    Пробег Коробка передач         Цвет  \\\n",
       "0       1.5 (газ-бензин)        седан   71000.0        механика        белый   \n",
       "1           1.8 (бензин)    кроссовер   14000.0         автомат        белый   \n",
       "2           2.4 (бензин)        седан  119800.0        механика      бежевый   \n",
       "3           1.5 (бензин)        седан    5000.0         автомат        белый   \n",
       "4             3 (бензин)  внедорожник  102000.0       типтроник       черный   \n",
       "...                  ...          ...       ...             ...          ...   \n",
       "19990                NaN     микровэн       NaN        механика        белый   \n",
       "19991   0.8 (газ-бензин)      хэтчбек  138000.0        механика  серебристый   \n",
       "19992   1.5 (газ-бензин)        седан       NaN        механика          NaN   \n",
       "19993   1.5 (газ-бензин)        седан  163000.0        механика          NaN   \n",
       "19994       1.5 (бензин)        седан       NaN        механика        белый   \n",
       "\n",
       "                Привод Есть доставка  \n",
       "0      передний привод           NaN  \n",
       "1      передний привод            Да  \n",
       "2      передний привод           NaN  \n",
       "3      передний привод            Да  \n",
       "4        полный привод           NaN  \n",
       "...                ...           ...  \n",
       "19990    задний привод           NaN  \n",
       "19991  передний привод           NaN  \n",
       "19992  передний привод           NaN  \n",
       "19993              NaN           NaN  \n",
       "19994  передний привод            Да  \n",
       "\n",
       "[19859 rows x 13 columns]"
      ]
     },
     "execution_count": 3,
     "metadata": {},
     "output_type": "execute_result"
    }
   ],
   "source": [
    "advertsDF = advertsDF.drop_duplicates() \n",
    "advertsDF"
   ]
  },
  {
   "cell_type": "markdown",
   "metadata": {},
   "source": [
    "<strong>Voila, we got pure data, it's 19,859 rows</strong>"
   ]
  },
  {
   "cell_type": "markdown",
   "metadata": {},
   "source": [
    "------------------------------------------------------------------------------------------"
   ]
  },
  {
   "cell_type": "markdown",
   "metadata": {},
   "source": [
    "## 1) How many car brands are there on the site and show only top-10 of them on a diagram"
   ]
  },
  {
   "cell_type": "code",
   "execution_count": 6,
   "metadata": {},
   "outputs": [
    {
     "name": "stdout",
     "output_type": "stream",
     "text": [
      "The number of brands: 82\n",
      "They are:\n",
      "Daewoo, Chevrolet, BMW, Ravon, ВАЗ (Lada), Mercedes-Benz, Toyota, Lexus, Hyundai, Changan, Kia, Haval, ГАЗ, Isuzu, Ford, Москвич, УАЗ, Honda, ЛуАЗ, Mazda, Opel, Nissan, Foton, ЗАЗ, Tofas, Peugeot, Audi, ИЖ, Volkswagen, SsangYong, Hafei, Land Rover, Ferrari, РАФ, СМЗ, Mitsubishi, JAC, Volvo, Fiat, Brilliance, Geely, Lincoln, Dong Feng, Ретро-автомобили, Citroen, Jeep, Skoda, Pontiac, Xpeng, Iveco, Tesla, Mini, ВИС, ARO, BAW, Cadillac, FAW, Leopard, Great Wall, Infiniti, Plymouth, Renault, Chrysler, Porsche, Maserati, Seat, NIO, Smart, Dodge, Rolls-Royce, Zastava, Lifan, Renault Samsung, Rover, King Long, Saab, Arcfox, Dacia, Alfa Romeo, Eagle, Huanghai, Jaguar\n"
     ]
    }
   ],
   "source": [
    "brands = pd.unique(advertsDF['brand']) #we extract only brands column from the table\n",
    "print(f\"The number of brands: {len(brands)}\" ) \n",
    "print(\"They are:\")\n",
    "print(*brands, sep=', ')"
   ]
  },
  {
   "cell_type": "code",
   "execution_count": 4,
   "metadata": {},
   "outputs": [
    {
     "data": {
      "text/plain": [
       "Chevrolet        9987\n",
       "ВАЗ (Lada)       3543\n",
       "Daewoo           2723\n",
       "ГАЗ               705\n",
       "Москвич           414\n",
       "Mercedes-Benz     410\n",
       "Hyundai           287\n",
       "Ravon             265\n",
       "Kia               203\n",
       "Toyota            141\n",
       "Name: brand, dtype: int64"
      ]
     },
     "execution_count": 4,
     "metadata": {},
     "output_type": "execute_result"
    }
   ],
   "source": [
    "brands = advertsDF['brand'].value_counts() #counting each brand  \n",
    "brands = brands[:10] #getting only top 10 of them\n",
    "brands"
   ]
  },
  {
   "cell_type": "code",
   "execution_count": 5,
   "metadata": {},
   "outputs": [
    {
     "data": {
      "image/png": "[encoded data removed]",
      "text/plain": [
       "<Figure size 432x288 with 1 Axes>"
      ]
     },
     "metadata": {
      "needs_background": "light"
     },
     "output_type": "display_data"
    }
   ],
   "source": [
    "brands.plot.bar() #plotting above brand counts as bar graph\n",
    "plt.show()"
   ]
  },
  {
   "cell_type": "markdown",
   "metadata": {},
   "source": [
    "------------------------------------------------------------------------------------------"
   ]
  },
  {
   "cell_type": "markdown",
   "metadata": {},
   "source": [
    "## 2) How many regions are there in Uzbekistan, including cities"
   ]
  },
  {
   "cell_type": "code",
   "execution_count": 6,
   "metadata": {},
   "outputs": [
    {
     "name": "stdout",
     "output_type": "stream",
     "text": [
      "The number of regions and cities: 201\n",
      "They are:\n",
      "Денау, Ташкент, Самарканд, Фергана, Шурчинский район, Турткульский район, Ангорский район, Алмалык, Андижан, Наманган, Нуратинский район, Бухара, Хазараспский район, Джизак, Коканд, Карши, Ургенч, Яккабагский район, Навои, Термез, Гулистан, Чирчик, Шахриханский район, Кибрайский район, Ургутский район, Шахрисабз, Шафирканский район, Янгиюль, Кувинский район, Асакинский район, Бахмальский район, Зарафшан, Джаркурганский район, Избасканский район, Гиждуванский район, Янгиарыкский район, Термезский район, Нукус, Амударьинский район, Папский район, Бостанлыкский район, Каттакурганский район, Андижанский район, Ходжейлийский район, Бандиханский район, Тахиаташ, Булунгурский район, Ферганский район, Каган, Кургантепинский район, Сардобинский район, Кумкурганский район, Букинский район, Нарпайский район, Пайарыкский район, Янгибазарский район, Кошкупырский район, Гузарский район, Ангрен, Музрабадский район, Хивинский район, Карманинский район, Беруни, Чимбайский район, Гурленский район, Узунский район, Алтынсайский район, Багатский район, Китабский район, Касбийский район, Учкудукский район, Бекабад, Шерабадский район, Ургенчский район, Бешарыкский район, Кушрабатский район, Паркентский район, Нурафшон, Ханкинский район, Чартакский район, Сарыасийский район, Гиждуван, Караулбазарский район, Галлааральский район, Вабкентский район, Пскентский район, Навбахорский район, Куйичирчикский район, Сайхунабадский район, Нишанский район, Зангиатинский район, Маргилан, Багдадский район, Зааминский район, Тахтакупырский район, Риштанский район, Чустский район, Шахрисабзский район, Баяутский район, Ахангаран, Янгиюльский район, Кунградский район, Бекабадский район, Акдарьинский район, Жондорский район, Миришкорский район, Ташкентский район, Ромитанский район, Элликкалинский район, Шаватский район, Камашинский район, Кунград, Кегейлийский район, Иштыханский район, Зарбдарский район, Дехканабадский район, г. Фергана, Сырдарья, Алтыарыкский район, Пешкунский район, Чиракчинский район, Муборекский район, Нарынский район, Туракурганский район, Жалалкудукский район, Мархаматский район, Пастдаргомский район, Янгикурганский район, Касансайский район, Кызылтепинский район, Учкурганский район, Касанский район, Самаркандский район, Дустликский район, Тайлакский район, Аккурганский район, Байсунский район, Кызырыкский район, Наманганский район, Балыкчинский район, Мирзачульский район, Чиназский район, Янгиер, Акалтынский район, Ходжаабадский район, Улугнорский район, Узбекистанский район, Бахмалский район, Каракульский район, Фаришский район, Каршинский район, Ширин, Каганский район, Чиназ, Уртачирчикский район, Бозский район, Язъяванский район, Пахтачийский район, Караузякский район, Алатский район, Джамбайский район, Хатырчинский район, Юкарычирчикский район, Канлыкульский район, Нурабадский район, Ташлакский район, Гулистанский район, Ханабад, Бухарский район, Шуманайский район, Булакбашинский район, Жанбайский район, Хавастский район, Уйчинский район, Сохский район, Пахтаабадский район, Сырдарьинский район, Нукусский район, Кувасай, Мирзаабадский район, Минбулакский район, Фуркатский район, Алтынкульский район, Дангаринский район, Шараф-Рашидовский район, Бувайдинский район, Учкуприкский район, Канимехский район, Мингбулакский район, Зафарабадский район, г. Ахангаран, Тамдынский район, Янгиабадский район, Куштепинский район, Пахтакорский район, Бойсунский район, Пахтачинский район, Куштепенский район, Янгиюлькский район, Муйнакский район, Юкаричирчикский район\n"
     ]
    }
   ],
   "source": [
    "cities = pd.unique(advertsDF['Город']) # extract only city column from our table\n",
    "print(f\"The number of regions and cities: {len(cities)}\")\n",
    "print(\"They are:\")\n",
    "print(*cities, sep=', ')"
   ]
  },
  {
   "cell_type": "markdown",
   "metadata": {},
   "source": [
    "------------------------------------------------------------------------------------------"
   ]
  },
  {
   "cell_type": "markdown",
   "metadata": {},
   "source": [
    "## 3) How many ads are in cities and in regions separatly, show it on diagrams"
   ]
  },
  {
   "cell_type": "markdown",
   "metadata": {},
   "source": [
    "### Firstly let's separate regions and cities from the table "
   ]
  },
  {
   "cell_type": "code",
   "execution_count": 7,
   "metadata": {},
   "outputs": [
    {
     "name": "stdout",
     "output_type": "stream",
     "text": [
      "The number of cities: 38\n",
      "They are:\n",
      "Денау, Ташкент, Самарканд, Фергана, Алмалык, Андижан, Наманган, Бухара, Джизак, Коканд, Карши, Ургенч, Навои, Термез, Гулистан, Чирчик, Шахрисабз, Янгиюль, Зарафшан, Нукус, Тахиаташ, Каган, Ангрен, Беруни, Бекабад, Нурафшон, Гиждуван, Маргилан, Ахангаран, Кунград, г. Фергана, Сырдарья, Янгиер, Ширин, Чиназ, Ханабад, Кувасай, г. Ахангаран\n"
     ]
    }
   ],
   "source": [
    "only_cities = [ i for i in cities if \"район\" not in i ] #picking up only cities\n",
    "\n",
    "print(f\"The number of cities: {len(only_cities)}\")\n",
    "print(\"They are:\")\n",
    "print(*only_cities, sep=', ')\n"
   ]
  },
  {
   "cell_type": "code",
   "execution_count": 8,
   "metadata": {},
   "outputs": [
    {
     "name": "stdout",
     "output_type": "stream",
     "text": [
      "The number of regions: 163\n",
      "They are:\n",
      "Шурчинский район, Турткульский район, Ангорский район, Нуратинский район, Хазараспский район, Яккабагский район, Шахриханский район, Кибрайский район, Ургутский район, Шафирканский район, Кувинский район, Асакинский район, Бахмальский район, Джаркурганский район, Избасканский район, Гиждуванский район, Янгиарыкский район, Термезский район, Амударьинский район, Папский район, Бостанлыкский район, Каттакурганский район, Андижанский район, Ходжейлийский район, Бандиханский район, Булунгурский район, Ферганский район, Кургантепинский район, Сардобинский район, Кумкурганский район, Букинский район, Нарпайский район, Пайарыкский район, Янгибазарский район, Кошкупырский район, Гузарский район, Музрабадский район, Хивинский район, Карманинский район, Чимбайский район, Гурленский район, Узунский район, Алтынсайский район, Багатский район, Китабский район, Касбийский район, Учкудукский район, Шерабадский район, Ургенчский район, Бешарыкский район, Кушрабатский район, Паркентский район, Ханкинский район, Чартакский район, Сарыасийский район, Караулбазарский район, Галлааральский район, Вабкентский район, Пскентский район, Навбахорский район, Куйичирчикский район, Сайхунабадский район, Нишанский район, Зангиатинский район, Багдадский район, Зааминский район, Тахтакупырский район, Риштанский район, Чустский район, Шахрисабзский район, Баяутский район, Янгиюльский район, Кунградский район, Бекабадский район, Акдарьинский район, Жондорский район, Миришкорский район, Ташкентский район, Ромитанский район, Элликкалинский район, Шаватский район, Камашинский район, Кегейлийский район, Иштыханский район, Зарбдарский район, Дехканабадский район, Алтыарыкский район, Пешкунский район, Чиракчинский район, Муборекский район, Нарынский район, Туракурганский район, Жалалкудукский район, Мархаматский район, Пастдаргомский район, Янгикурганский район, Касансайский район, Кызылтепинский район, Учкурганский район, Касанский район, Самаркандский район, Дустликский район, Тайлакский район, Аккурганский район, Байсунский район, Кызырыкский район, Наманганский район, Балыкчинский район, Мирзачульский район, Чиназский район, Акалтынский район, Ходжаабадский район, Улугнорский район, Узбекистанский район, Бахмалский район, Каракульский район, Фаришский район, Каршинский район, Каганский район, Уртачирчикский район, Бозский район, Язъяванский район, Пахтачийский район, Караузякский район, Алатский район, Джамбайский район, Хатырчинский район, Юкарычирчикский район, Канлыкульский район, Нурабадский район, Ташлакский район, Гулистанский район, Бухарский район, Шуманайский район, Булакбашинский район, Жанбайский район, Хавастский район, Уйчинский район, Сохский район, Пахтаабадский район, Сырдарьинский район, Нукусский район, Мирзаабадский район, Минбулакский район, Фуркатский район, Алтынкульский район, Дангаринский район, Шараф-Рашидовский район, Бувайдинский район, Учкуприкский район, Канимехский район, Мингбулакский район, Зафарабадский район, Тамдынский район, Янгиабадский район, Куштепинский район, Пахтакорский район, Бойсунский район, Пахтачинский район, Куштепенский район, Янгиюлькский район, Муйнакский район, Юкаричирчикский район\n"
     ]
    }
   ],
   "source": [
    "only_regions = [ i for i in cities if \"район\" in i ] #picking up only regions\n",
    "\n",
    "print(f\"The number of regions: {len(only_regions)}\")\n",
    "print(\"They are:\")\n",
    "print(*only_regions, sep=', ')\n"
   ]
  },
  {
   "cell_type": "markdown",
   "metadata": {},
   "source": [
    "### Now let's make two separate tables with cities and regions:"
   ]
  },
  {
   "cell_type": "code",
   "execution_count": 9,
   "metadata": {},
   "outputs": [],
   "source": [
    "citiesDF = advertsDF[advertsDF['Город'].str.contains(\"район\") == False] # made new table with adverts only from cities"
   ]
  },
  {
   "cell_type": "code",
   "execution_count": 10,
   "metadata": {},
   "outputs": [
    {
     "data": {
      "text/html": [
       "<div>\n",
       "<style scoped>\n",
       "    .dataframe tbody tr th:only-of-type {\n",
       "        vertical-align: middle;\n",
       "    }\n",
       "\n",
       "    .dataframe tbody tr th {\n",
       "        vertical-align: top;\n",
       "    }\n",
       "\n",
       "    .dataframe thead th {\n",
       "        text-align: right;\n",
       "    }\n",
       "</style>\n",
       "<table border=\"1\" class=\"dataframe\">\n",
       "  <thead>\n",
       "    <tr style=\"text-align: right;\">\n",
       "      <th></th>\n",
       "      <th>id</th>\n",
       "      <th>brand</th>\n",
       "      <th>name</th>\n",
       "      <th>year</th>\n",
       "      <th>price</th>\n",
       "      <th>Город</th>\n",
       "      <th>Объем двигателя, л</th>\n",
       "      <th>Кузов</th>\n",
       "      <th>Пробег</th>\n",
       "      <th>Коробка передач</th>\n",
       "      <th>Цвет</th>\n",
       "      <th>Привод</th>\n",
       "      <th>Есть доставка</th>\n",
       "    </tr>\n",
       "  </thead>\n",
       "  <tbody>\n",
       "    <tr>\n",
       "      <th>0</th>\n",
       "      <td>1214637</td>\n",
       "      <td>Daewoo</td>\n",
       "      <td>Nexia</td>\n",
       "      <td>2010</td>\n",
       "      <td>5974</td>\n",
       "      <td>Денау</td>\n",
       "      <td>1.5 (газ-бензин)</td>\n",
       "      <td>седан</td>\n",
       "      <td>71000.0</td>\n",
       "      <td>механика</td>\n",
       "      <td>белый</td>\n",
       "      <td>передний привод</td>\n",
       "      <td>NaN</td>\n",
       "    </tr>\n",
       "    <tr>\n",
       "      <th>1</th>\n",
       "      <td>1216327</td>\n",
       "      <td>Chevrolet</td>\n",
       "      <td>Tracker,</td>\n",
       "      <td>2019</td>\n",
       "      <td>19000</td>\n",
       "      <td>Ташкент</td>\n",
       "      <td>1.8 (бензин)</td>\n",
       "      <td>кроссовер</td>\n",
       "      <td>14000.0</td>\n",
       "      <td>автомат</td>\n",
       "      <td>белый</td>\n",
       "      <td>передний привод</td>\n",
       "      <td>Да</td>\n",
       "    </tr>\n",
       "    <tr>\n",
       "      <th>2</th>\n",
       "      <td>1084744</td>\n",
       "      <td>Chevrolet</td>\n",
       "      <td>Malibu,</td>\n",
       "      <td>2012</td>\n",
       "      <td>12000</td>\n",
       "      <td>Ташкент</td>\n",
       "      <td>2.4 (бензин)</td>\n",
       "      <td>седан</td>\n",
       "      <td>119800.0</td>\n",
       "      <td>механика</td>\n",
       "      <td>бежевый</td>\n",
       "      <td>передний привод</td>\n",
       "      <td>NaN</td>\n",
       "    </tr>\n",
       "    <tr>\n",
       "      <th>3</th>\n",
       "      <td>1216263</td>\n",
       "      <td>Chevrolet</td>\n",
       "      <td>Nexia 3,</td>\n",
       "      <td>2020</td>\n",
       "      <td>4800</td>\n",
       "      <td>Самарканд</td>\n",
       "      <td>1.5 (бензин)</td>\n",
       "      <td>седан</td>\n",
       "      <td>5000.0</td>\n",
       "      <td>автомат</td>\n",
       "      <td>белый</td>\n",
       "      <td>передний привод</td>\n",
       "      <td>Да</td>\n",
       "    </tr>\n",
       "    <tr>\n",
       "      <th>4</th>\n",
       "      <td>1183835</td>\n",
       "      <td>BMW</td>\n",
       "      <td>X5</td>\n",
       "      <td>2006</td>\n",
       "      <td>22000</td>\n",
       "      <td>Фергана</td>\n",
       "      <td>3 (бензин)</td>\n",
       "      <td>внедорожник</td>\n",
       "      <td>102000.0</td>\n",
       "      <td>типтроник</td>\n",
       "      <td>черный</td>\n",
       "      <td>полный привод</td>\n",
       "      <td>NaN</td>\n",
       "    </tr>\n",
       "    <tr>\n",
       "      <th>...</th>\n",
       "      <td>...</td>\n",
       "      <td>...</td>\n",
       "      <td>...</td>\n",
       "      <td>...</td>\n",
       "      <td>...</td>\n",
       "      <td>...</td>\n",
       "      <td>...</td>\n",
       "      <td>...</td>\n",
       "      <td>...</td>\n",
       "      <td>...</td>\n",
       "      <td>...</td>\n",
       "      <td>...</td>\n",
       "      <td>...</td>\n",
       "    </tr>\n",
       "    <tr>\n",
       "      <th>19989</th>\n",
       "      <td>1052453</td>\n",
       "      <td>Daewoo</td>\n",
       "      <td>Damas</td>\n",
       "      <td>1994</td>\n",
       "      <td>2300</td>\n",
       "      <td>Бухара</td>\n",
       "      <td>NaN</td>\n",
       "      <td>микровэн</td>\n",
       "      <td>NaN</td>\n",
       "      <td>механика</td>\n",
       "      <td>NaN</td>\n",
       "      <td>NaN</td>\n",
       "      <td>NaN</td>\n",
       "    </tr>\n",
       "    <tr>\n",
       "      <th>19990</th>\n",
       "      <td>1193235</td>\n",
       "      <td>Chevrolet</td>\n",
       "      <td>Damas</td>\n",
       "      <td>2020</td>\n",
       "      <td>7800</td>\n",
       "      <td>Ташкент</td>\n",
       "      <td>NaN</td>\n",
       "      <td>микровэн</td>\n",
       "      <td>NaN</td>\n",
       "      <td>механика</td>\n",
       "      <td>белый</td>\n",
       "      <td>задний привод</td>\n",
       "      <td>NaN</td>\n",
       "    </tr>\n",
       "    <tr>\n",
       "      <th>19991</th>\n",
       "      <td>1193233</td>\n",
       "      <td>Chevrolet</td>\n",
       "      <td>Matiz,</td>\n",
       "      <td>2008</td>\n",
       "      <td>3700</td>\n",
       "      <td>Андижан</td>\n",
       "      <td>0.8 (газ-бензин)</td>\n",
       "      <td>хэтчбек</td>\n",
       "      <td>138000.0</td>\n",
       "      <td>механика</td>\n",
       "      <td>серебристый</td>\n",
       "      <td>передний привод</td>\n",
       "      <td>NaN</td>\n",
       "    </tr>\n",
       "    <tr>\n",
       "      <th>19992</th>\n",
       "      <td>1193182</td>\n",
       "      <td>Chevrolet</td>\n",
       "      <td>Nexia 2,</td>\n",
       "      <td>2008</td>\n",
       "      <td>4700</td>\n",
       "      <td>Ургенч</td>\n",
       "      <td>1.5 (газ-бензин)</td>\n",
       "      <td>седан</td>\n",
       "      <td>NaN</td>\n",
       "      <td>механика</td>\n",
       "      <td>NaN</td>\n",
       "      <td>передний привод</td>\n",
       "      <td>NaN</td>\n",
       "    </tr>\n",
       "    <tr>\n",
       "      <th>19993</th>\n",
       "      <td>1095162</td>\n",
       "      <td>Daewoo</td>\n",
       "      <td>Nexia</td>\n",
       "      <td>2005</td>\n",
       "      <td>4800</td>\n",
       "      <td>Бухара</td>\n",
       "      <td>1.5 (газ-бензин)</td>\n",
       "      <td>седан</td>\n",
       "      <td>163000.0</td>\n",
       "      <td>механика</td>\n",
       "      <td>NaN</td>\n",
       "      <td>NaN</td>\n",
       "      <td>NaN</td>\n",
       "    </tr>\n",
       "  </tbody>\n",
       "</table>\n",
       "<p>16277 rows × 13 columns</p>\n",
       "</div>"
      ],
      "text/plain": [
       "            id      brand      name  year  price      Город  \\\n",
       "0      1214637     Daewoo     Nexia  2010   5974      Денау   \n",
       "1      1216327  Chevrolet  Tracker,  2019  19000    Ташкент   \n",
       "2      1084744  Chevrolet   Malibu,  2012  12000    Ташкент   \n",
       "3      1216263  Chevrolet  Nexia 3,  2020   4800  Самарканд   \n",
       "4      1183835        BMW        X5  2006  22000    Фергана   \n",
       "...        ...        ...       ...   ...    ...        ...   \n",
       "19989  1052453     Daewoo     Damas  1994   2300     Бухара   \n",
       "19990  1193235  Chevrolet     Damas  2020   7800    Ташкент   \n",
       "19991  1193233  Chevrolet    Matiz,  2008   3700    Андижан   \n",
       "19992  1193182  Chevrolet  Nexia 2,  2008   4700     Ургенч   \n",
       "19993  1095162     Daewoo     Nexia  2005   4800     Бухара   \n",
       "\n",
       "      Объем двигателя, л        Кузов    Пробег Коробка передач         Цвет  \\\n",
       "0       1.5 (газ-бензин)        седан   71000.0        механика        белый   \n",
       "1           1.8 (бензин)    кроссовер   14000.0         автомат        белый   \n",
       "2           2.4 (бензин)        седан  119800.0        механика      бежевый   \n",
       "3           1.5 (бензин)        седан    5000.0         автомат        белый   \n",
       "4             3 (бензин)  внедорожник  102000.0       типтроник       черный   \n",
       "...                  ...          ...       ...             ...          ...   \n",
       "19989                NaN     микровэн       NaN        механика          NaN   \n",
       "19990                NaN     микровэн       NaN        механика        белый   \n",
       "19991   0.8 (газ-бензин)      хэтчбек  138000.0        механика  серебристый   \n",
       "19992   1.5 (газ-бензин)        седан       NaN        механика          NaN   \n",
       "19993   1.5 (газ-бензин)        седан  163000.0        механика          NaN   \n",
       "\n",
       "                Привод Есть доставка  \n",
       "0      передний привод           NaN  \n",
       "1      передний привод            Да  \n",
       "2      передний привод           NaN  \n",
       "3      передний привод            Да  \n",
       "4        полный привод           NaN  \n",
       "...                ...           ...  \n",
       "19989              NaN           NaN  \n",
       "19990    задний привод           NaN  \n",
       "19991  передний привод           NaN  \n",
       "19992  передний привод           NaN  \n",
       "19993              NaN           NaN  \n",
       "\n",
       "[16277 rows x 13 columns]"
      ]
     },
     "execution_count": 10,
     "metadata": {},
     "output_type": "execute_result"
    }
   ],
   "source": [
    "citiesDF"
   ]
  },
  {
   "cell_type": "markdown",
   "metadata": {},
   "source": [
    "### As we can see there are 16,277 adverts in cities and ..."
   ]
  },
  {
   "cell_type": "code",
   "execution_count": 11,
   "metadata": {},
   "outputs": [],
   "source": [
    "regionsDF = advertsDF[advertsDF['Город'].str.contains(\"район\") == True] # made new table with adverts only from regions"
   ]
  },
  {
   "cell_type": "code",
   "execution_count": 12,
   "metadata": {},
   "outputs": [
    {
     "data": {
      "text/html": [
       "<div>\n",
       "<style scoped>\n",
       "    .dataframe tbody tr th:only-of-type {\n",
       "        vertical-align: middle;\n",
       "    }\n",
       "\n",
       "    .dataframe tbody tr th {\n",
       "        vertical-align: top;\n",
       "    }\n",
       "\n",
       "    .dataframe thead th {\n",
       "        text-align: right;\n",
       "    }\n",
       "</style>\n",
       "<table border=\"1\" class=\"dataframe\">\n",
       "  <thead>\n",
       "    <tr style=\"text-align: right;\">\n",
       "      <th></th>\n",
       "      <th>id</th>\n",
       "      <th>brand</th>\n",
       "      <th>name</th>\n",
       "      <th>year</th>\n",
       "      <th>price</th>\n",
       "      <th>Город</th>\n",
       "      <th>Объем двигателя, л</th>\n",
       "      <th>Кузов</th>\n",
       "      <th>Пробег</th>\n",
       "      <th>Коробка передач</th>\n",
       "      <th>Цвет</th>\n",
       "      <th>Привод</th>\n",
       "      <th>Есть доставка</th>\n",
       "    </tr>\n",
       "  </thead>\n",
       "  <tbody>\n",
       "    <tr>\n",
       "      <th>6</th>\n",
       "      <td>1209895</td>\n",
       "      <td>Chevrolet</td>\n",
       "      <td>Damas</td>\n",
       "      <td>2020</td>\n",
       "      <td>7850</td>\n",
       "      <td>Шурчинский район</td>\n",
       "      <td>NaN</td>\n",
       "      <td>микровэн</td>\n",
       "      <td>232.0</td>\n",
       "      <td>механика</td>\n",
       "      <td>белый</td>\n",
       "      <td>задний привод</td>\n",
       "      <td>NaN</td>\n",
       "    </tr>\n",
       "    <tr>\n",
       "      <th>10</th>\n",
       "      <td>1141782</td>\n",
       "      <td>ВАЗ (Lada)</td>\n",
       "      <td>2102</td>\n",
       "      <td>1978</td>\n",
       "      <td>2409</td>\n",
       "      <td>Турткульский район</td>\n",
       "      <td>1.7 (газ-бензин)</td>\n",
       "      <td>универсал</td>\n",
       "      <td>NaN</td>\n",
       "      <td>механика</td>\n",
       "      <td>белый</td>\n",
       "      <td>задний привод</td>\n",
       "      <td>NaN</td>\n",
       "    </tr>\n",
       "    <tr>\n",
       "      <th>11</th>\n",
       "      <td>1149881</td>\n",
       "      <td>Chevrolet</td>\n",
       "      <td>Malibu,</td>\n",
       "      <td>2019</td>\n",
       "      <td>26000</td>\n",
       "      <td>Ангорский район</td>\n",
       "      <td>2.4 (бензин)</td>\n",
       "      <td>седан</td>\n",
       "      <td>10400.0</td>\n",
       "      <td>автомат</td>\n",
       "      <td>белый</td>\n",
       "      <td>передний привод</td>\n",
       "      <td>NaN</td>\n",
       "    </tr>\n",
       "    <tr>\n",
       "      <th>28</th>\n",
       "      <td>1096720</td>\n",
       "      <td>Chevrolet</td>\n",
       "      <td>Cobalt,</td>\n",
       "      <td>2013</td>\n",
       "      <td>7420</td>\n",
       "      <td>Нуратинский район</td>\n",
       "      <td>1.5 (бензин)</td>\n",
       "      <td>седан</td>\n",
       "      <td>136000.0</td>\n",
       "      <td>механика</td>\n",
       "      <td>сахара</td>\n",
       "      <td>передний привод</td>\n",
       "      <td>NaN</td>\n",
       "    </tr>\n",
       "    <tr>\n",
       "      <th>33</th>\n",
       "      <td>1212087</td>\n",
       "      <td>Chevrolet</td>\n",
       "      <td>Malibu,</td>\n",
       "      <td>2012</td>\n",
       "      <td>14000</td>\n",
       "      <td>Хазараспский район</td>\n",
       "      <td>2.4 (газ-бензин)</td>\n",
       "      <td>седан</td>\n",
       "      <td>98.0</td>\n",
       "      <td>механика</td>\n",
       "      <td>хамелеон</td>\n",
       "      <td>передний привод</td>\n",
       "      <td>Да</td>\n",
       "    </tr>\n",
       "    <tr>\n",
       "      <th>...</th>\n",
       "      <td>...</td>\n",
       "      <td>...</td>\n",
       "      <td>...</td>\n",
       "      <td>...</td>\n",
       "      <td>...</td>\n",
       "      <td>...</td>\n",
       "      <td>...</td>\n",
       "      <td>...</td>\n",
       "      <td>...</td>\n",
       "      <td>...</td>\n",
       "      <td>...</td>\n",
       "      <td>...</td>\n",
       "      <td>...</td>\n",
       "    </tr>\n",
       "    <tr>\n",
       "      <th>19954</th>\n",
       "      <td>1208215</td>\n",
       "      <td>Daewoo</td>\n",
       "      <td>Nexia</td>\n",
       "      <td>1999</td>\n",
       "      <td>3473</td>\n",
       "      <td>Зааминский район</td>\n",
       "      <td>NaN</td>\n",
       "      <td>седан</td>\n",
       "      <td>555000.0</td>\n",
       "      <td>механика</td>\n",
       "      <td>серый</td>\n",
       "      <td>передний привод</td>\n",
       "      <td>NaN</td>\n",
       "    </tr>\n",
       "    <tr>\n",
       "      <th>19964</th>\n",
       "      <td>874577</td>\n",
       "      <td>ВАЗ (Lada)</td>\n",
       "      <td>2102</td>\n",
       "      <td>1972</td>\n",
       "      <td>2800</td>\n",
       "      <td>Паркентский район</td>\n",
       "      <td>NaN</td>\n",
       "      <td>NaN</td>\n",
       "      <td>NaN</td>\n",
       "      <td>механика</td>\n",
       "      <td>белый</td>\n",
       "      <td>NaN</td>\n",
       "      <td>NaN</td>\n",
       "    </tr>\n",
       "    <tr>\n",
       "      <th>19982</th>\n",
       "      <td>1158777</td>\n",
       "      <td>ВАЗ (Lada)</td>\n",
       "      <td>Vesta</td>\n",
       "      <td>2019</td>\n",
       "      <td>11576</td>\n",
       "      <td>Узунский район</td>\n",
       "      <td>1.6 (бензин)</td>\n",
       "      <td>седан</td>\n",
       "      <td>31000.0</td>\n",
       "      <td>робот</td>\n",
       "      <td>белый</td>\n",
       "      <td>передний привод</td>\n",
       "      <td>NaN</td>\n",
       "    </tr>\n",
       "    <tr>\n",
       "      <th>19987</th>\n",
       "      <td>1158771</td>\n",
       "      <td>ВАЗ (Lada)</td>\n",
       "      <td>Самара 2 (седан 2115)</td>\n",
       "      <td>2008</td>\n",
       "      <td>2900</td>\n",
       "      <td>Бекабадский район</td>\n",
       "      <td>NaN</td>\n",
       "      <td>NaN</td>\n",
       "      <td>NaN</td>\n",
       "      <td>механика</td>\n",
       "      <td>NaN</td>\n",
       "      <td>NaN</td>\n",
       "      <td>NaN</td>\n",
       "    </tr>\n",
       "    <tr>\n",
       "      <th>19994</th>\n",
       "      <td>1193240</td>\n",
       "      <td>Chevrolet</td>\n",
       "      <td>Nexia 2,</td>\n",
       "      <td>2015</td>\n",
       "      <td>7000</td>\n",
       "      <td>Самаркандский район</td>\n",
       "      <td>1.5 (бензин)</td>\n",
       "      <td>седан</td>\n",
       "      <td>NaN</td>\n",
       "      <td>механика</td>\n",
       "      <td>белый</td>\n",
       "      <td>передний привод</td>\n",
       "      <td>Да</td>\n",
       "    </tr>\n",
       "  </tbody>\n",
       "</table>\n",
       "<p>3582 rows × 13 columns</p>\n",
       "</div>"
      ],
      "text/plain": [
       "            id       brand                   name  year  price  \\\n",
       "6      1209895   Chevrolet                  Damas  2020   7850   \n",
       "10     1141782  ВАЗ (Lada)                   2102  1978   2409   \n",
       "11     1149881   Chevrolet                Malibu,  2019  26000   \n",
       "28     1096720   Chevrolet                Cobalt,  2013   7420   \n",
       "33     1212087   Chevrolet                Malibu,  2012  14000   \n",
       "...        ...         ...                    ...   ...    ...   \n",
       "19954  1208215      Daewoo                  Nexia  1999   3473   \n",
       "19964   874577  ВАЗ (Lada)                   2102  1972   2800   \n",
       "19982  1158777  ВАЗ (Lada)                  Vesta  2019  11576   \n",
       "19987  1158771  ВАЗ (Lada)  Самара 2 (седан 2115)  2008   2900   \n",
       "19994  1193240   Chevrolet               Nexia 2,  2015   7000   \n",
       "\n",
       "                     Город Объем двигателя, л      Кузов    Пробег  \\\n",
       "6         Шурчинский район                NaN   микровэн     232.0   \n",
       "10      Турткульский район   1.7 (газ-бензин)  универсал       NaN   \n",
       "11         Ангорский район       2.4 (бензин)      седан   10400.0   \n",
       "28       Нуратинский район       1.5 (бензин)      седан  136000.0   \n",
       "33      Хазараспский район   2.4 (газ-бензин)      седан      98.0   \n",
       "...                    ...                ...        ...       ...   \n",
       "19954     Зааминский район                NaN      седан  555000.0   \n",
       "19964    Паркентский район                NaN        NaN       NaN   \n",
       "19982       Узунский район       1.6 (бензин)      седан   31000.0   \n",
       "19987    Бекабадский район                NaN        NaN       NaN   \n",
       "19994  Самаркандский район       1.5 (бензин)      седан       NaN   \n",
       "\n",
       "      Коробка передач      Цвет           Привод Есть доставка  \n",
       "6            механика     белый    задний привод           NaN  \n",
       "10           механика     белый    задний привод           NaN  \n",
       "11            автомат     белый  передний привод           NaN  \n",
       "28           механика    сахара  передний привод           NaN  \n",
       "33           механика  хамелеон  передний привод            Да  \n",
       "...               ...       ...              ...           ...  \n",
       "19954        механика     серый  передний привод           NaN  \n",
       "19964        механика     белый              NaN           NaN  \n",
       "19982           робот     белый  передний привод           NaN  \n",
       "19987        механика       NaN              NaN           NaN  \n",
       "19994        механика     белый  передний привод            Да  \n",
       "\n",
       "[3582 rows x 13 columns]"
      ]
     },
     "execution_count": 12,
     "metadata": {},
     "output_type": "execute_result"
    }
   ],
   "source": [
    "regionsDF"
   ]
  },
  {
   "cell_type": "markdown",
   "metadata": {},
   "source": [
    "### ...3,582 in regions"
   ]
  },
  {
   "cell_type": "code",
   "execution_count": 14,
   "metadata": {},
   "outputs": [
    {
     "data": {
      "image/png": "[encoded data removed]",
      "text/plain": [
       "<Figure size 432x288 with 1 Axes>"
      ]
     },
     "metadata": {},
     "output_type": "display_data"
    }
   ],
   "source": [
    "labels = ['Cities', 'Regions']\n",
    "sizes = [len(citiesDF), len(regionsDF)]\n",
    "\n",
    "# constructing pie chart\n",
    "fig, ax = plt.subplots()\n",
    "ax.pie(sizes, labels=labels, autopct='%1.1f%%') #fillting with label names and values\n",
    "ax.axis('equal') \n",
    "ax.set_title('Relation of ads in cities and regions') #setting title for pie chart\n",
    "plt.show() #showing drawn chart"
   ]
  },
  {
   "cell_type": "markdown",
   "metadata": {},
   "source": [
    "------------------------------------------------------------------------------------------"
   ]
  },
  {
   "cell_type": "markdown",
   "metadata": {},
   "source": [
    "## 4) What car is the most popular in top-10 cities and regions separatly, show it on diagrams;"
   ]
  },
  {
   "cell_type": "markdown",
   "metadata": {},
   "source": [
    " тут можно показать какая машина самая популярная в 10 топ городах и регионах и показать на графике. Тут ниже пример какой график можно сделать"
   ]
  },
  {
   "cell_type": "code",
   "execution_count": 17,
   "metadata": {},
   "outputs": [
    {
     "data": {
      "text/plain": [
       "Ташкент      5841\n",
       "Самарканд    1987\n",
       "Бухара       1305\n",
       "Наманган      902\n",
       "Фергана       798\n",
       "Карши         652\n",
       "Джизак        640\n",
       "Навои         575\n",
       "Андижан       522\n",
       "Ургенч        497\n",
       "Name: Город, dtype: int64"
      ]
     },
     "execution_count": 17,
     "metadata": {},
     "output_type": "execute_result"
    }
   ],
   "source": [
    "citiesValueCounts = citiesDF['Город'].value_counts() #how many ads in each city\n",
    "citiesValueCounts = citiesValueCounts[:10] #getting top 10 cities\n",
    "citiesValueCounts"
   ]
  },
  {
   "cell_type": "code",
   "execution_count": 18,
   "metadata": {},
   "outputs": [
    {
     "data": {
      "image/png": "[encoded data removed]",
      "text/plain": [
       "<Figure size 432x288 with 1 Axes>"
      ]
     },
     "metadata": {
      "needs_background": "light"
     },
     "output_type": "display_data"
    }
   ],
   "source": [
    "citiesValueCounts.plot.bar() #plotting top 10 cities counts as bar graph\n",
    "plt.show()"
   ]
  },
  {
   "cell_type": "code",
   "execution_count": 19,
   "metadata": {},
   "outputs": [
    {
     "data": {
      "text/plain": [
       "Chevrolet        8496\n",
       "ВАЗ (Lada)       2723\n",
       "Daewoo           2045\n",
       "ГАЗ               546\n",
       "Mercedes-Benz     364\n",
       "Москвич           283\n",
       "Hyundai           267\n",
       "Ravon             237\n",
       "Kia               182\n",
       "Toyota            131\n",
       "Name: brand, dtype: int64"
      ]
     },
     "execution_count": 19,
     "metadata": {},
     "output_type": "execute_result"
    }
   ],
   "source": [
    "cityBrands = citiesDF['brand'].value_counts() #top-10 brands in cities\n",
    "cityBrands = cityBrands[:10]\n",
    "cityBrands"
   ]
  },
  {
   "cell_type": "code",
   "execution_count": 20,
   "metadata": {},
   "outputs": [],
   "source": [
    "regionsAds = regionsDF['Город'].value_counts() #how many ads in top-30 regions\n",
    "regionsAds = regionsAds[:30]"
   ]
  },
  {
   "cell_type": "code",
   "execution_count": 21,
   "metadata": {},
   "outputs": [
    {
     "data": {
      "image/png": "[encoded data removed]",
      "text/plain": [
       "<Figure size 432x288 with 1 Axes>"
      ]
     },
     "metadata": {
      "needs_background": "light"
     },
     "output_type": "display_data"
    }
   ],
   "source": [
    "regionsAds.plot.bar()\n",
    "plt.show()"
   ]
  },
  {
   "cell_type": "code",
   "execution_count": 22,
   "metadata": {},
   "outputs": [
    {
     "data": {
      "text/plain": [
       "Chevrolet        1491\n",
       "ВАЗ (Lada)        820\n",
       "Daewoo            678\n",
       "ГАЗ               159\n",
       "Москвич           131\n",
       "Mercedes-Benz      46\n",
       "УАЗ                38\n",
       "Ravon              28\n",
       "Ford               24\n",
       "Kia                21\n",
       "Name: brand, dtype: int64"
      ]
     },
     "execution_count": 22,
     "metadata": {},
     "output_type": "execute_result"
    }
   ],
   "source": [
    "regionBrands = regionsDF['brand'].value_counts() #top-10 brands in regions\n",
    "regionBrands = regionBrands[:10]\n",
    "regionBrands"
   ]
  },
  {
   "cell_type": "markdown",
   "metadata": {},
   "source": [
    "------------------------------------------------------------------------------------------"
   ]
  },
  {
   "cell_type": "markdown",
   "metadata": {},
   "source": [
    "## 5) What are average prices of all cars in every city and region;"
   ]
  },
  {
   "cell_type": "code",
   "execution_count": 24,
   "metadata": {},
   "outputs": [
    {
     "data": {
      "text/html": [
       "<div>\n",
       "<style scoped>\n",
       "    .dataframe tbody tr th:only-of-type {\n",
       "        vertical-align: middle;\n",
       "    }\n",
       "\n",
       "    .dataframe tbody tr th {\n",
       "        vertical-align: top;\n",
       "    }\n",
       "\n",
       "    .dataframe thead th {\n",
       "        text-align: right;\n",
       "    }\n",
       "</style>\n",
       "<table border=\"1\" class=\"dataframe\">\n",
       "  <thead>\n",
       "    <tr style=\"text-align: right;\">\n",
       "      <th></th>\n",
       "      <th>price</th>\n",
       "    </tr>\n",
       "    <tr>\n",
       "      <th>Город</th>\n",
       "      <th></th>\n",
       "    </tr>\n",
       "  </thead>\n",
       "  <tbody>\n",
       "    <tr>\n",
       "      <th>Гиждуван</th>\n",
       "      <td>12307.090909</td>\n",
       "    </tr>\n",
       "    <tr>\n",
       "      <th>Ташкент</th>\n",
       "      <td>10264.697826</td>\n",
       "    </tr>\n",
       "    <tr>\n",
       "      <th>Андижан</th>\n",
       "      <td>7641.636015</td>\n",
       "    </tr>\n",
       "    <tr>\n",
       "      <th>Нурафшон</th>\n",
       "      <td>7495.263158</td>\n",
       "    </tr>\n",
       "    <tr>\n",
       "      <th>Термез</th>\n",
       "      <td>7192.381503</td>\n",
       "    </tr>\n",
       "    <tr>\n",
       "      <th>Ургенч</th>\n",
       "      <td>7133.555332</td>\n",
       "    </tr>\n",
       "    <tr>\n",
       "      <th>Карши</th>\n",
       "      <td>6995.470859</td>\n",
       "    </tr>\n",
       "    <tr>\n",
       "      <th>Кунград</th>\n",
       "      <td>6978.454545</td>\n",
       "    </tr>\n",
       "    <tr>\n",
       "      <th>Самарканд</th>\n",
       "      <td>6932.204831</td>\n",
       "    </tr>\n",
       "    <tr>\n",
       "      <th>Нукус</th>\n",
       "      <td>6771.582822</td>\n",
       "    </tr>\n",
       "    <tr>\n",
       "      <th>Бухара</th>\n",
       "      <td>6655.521839</td>\n",
       "    </tr>\n",
       "    <tr>\n",
       "      <th>Наманган</th>\n",
       "      <td>6627.041020</td>\n",
       "    </tr>\n",
       "    <tr>\n",
       "      <th>Коканд</th>\n",
       "      <td>6611.085000</td>\n",
       "    </tr>\n",
       "    <tr>\n",
       "      <th>Фергана</th>\n",
       "      <td>6594.565163</td>\n",
       "    </tr>\n",
       "    <tr>\n",
       "      <th>г. Фергана</th>\n",
       "      <td>6548.538462</td>\n",
       "    </tr>\n",
       "    <tr>\n",
       "      <th>Чирчик</th>\n",
       "      <td>6282.648810</td>\n",
       "    </tr>\n",
       "    <tr>\n",
       "      <th>Денау</th>\n",
       "      <td>6272.263889</td>\n",
       "    </tr>\n",
       "    <tr>\n",
       "      <th>Гулистан</th>\n",
       "      <td>6178.352459</td>\n",
       "    </tr>\n",
       "    <tr>\n",
       "      <th>Зарафшан</th>\n",
       "      <td>6050.314286</td>\n",
       "    </tr>\n",
       "    <tr>\n",
       "      <th>Джизак</th>\n",
       "      <td>6031.825000</td>\n",
       "    </tr>\n",
       "    <tr>\n",
       "      <th>Ширин</th>\n",
       "      <td>6005.555556</td>\n",
       "    </tr>\n",
       "    <tr>\n",
       "      <th>Навои</th>\n",
       "      <td>5863.652174</td>\n",
       "    </tr>\n",
       "    <tr>\n",
       "      <th>Сырдарья</th>\n",
       "      <td>5786.655172</td>\n",
       "    </tr>\n",
       "    <tr>\n",
       "      <th>Ангрен</th>\n",
       "      <td>5514.781818</td>\n",
       "    </tr>\n",
       "    <tr>\n",
       "      <th>г. Ахангаран</th>\n",
       "      <td>5500.000000</td>\n",
       "    </tr>\n",
       "    <tr>\n",
       "      <th>Беруни</th>\n",
       "      <td>5376.387097</td>\n",
       "    </tr>\n",
       "    <tr>\n",
       "      <th>Алмалык</th>\n",
       "      <td>5334.600000</td>\n",
       "    </tr>\n",
       "    <tr>\n",
       "      <th>Янгиюль</th>\n",
       "      <td>5288.945455</td>\n",
       "    </tr>\n",
       "    <tr>\n",
       "      <th>Тахиаташ</th>\n",
       "      <td>5251.200000</td>\n",
       "    </tr>\n",
       "    <tr>\n",
       "      <th>Бекабад</th>\n",
       "      <td>5197.211268</td>\n",
       "    </tr>\n",
       "    <tr>\n",
       "      <th>Ханабад</th>\n",
       "      <td>5173.666667</td>\n",
       "    </tr>\n",
       "    <tr>\n",
       "      <th>Каган</th>\n",
       "      <td>5154.857143</td>\n",
       "    </tr>\n",
       "    <tr>\n",
       "      <th>Шахрисабз</th>\n",
       "      <td>5135.523256</td>\n",
       "    </tr>\n",
       "    <tr>\n",
       "      <th>Маргилан</th>\n",
       "      <td>4938.639344</td>\n",
       "    </tr>\n",
       "    <tr>\n",
       "      <th>Чиназ</th>\n",
       "      <td>4745.450000</td>\n",
       "    </tr>\n",
       "    <tr>\n",
       "      <th>Янгиер</th>\n",
       "      <td>4538.608696</td>\n",
       "    </tr>\n",
       "    <tr>\n",
       "      <th>Ахангаран</th>\n",
       "      <td>4534.176471</td>\n",
       "    </tr>\n",
       "    <tr>\n",
       "      <th>Кувасай</th>\n",
       "      <td>3895.454545</td>\n",
       "    </tr>\n",
       "  </tbody>\n",
       "</table>\n",
       "</div>"
      ],
      "text/plain": [
       "                     price\n",
       "Город                     \n",
       "Гиждуван      12307.090909\n",
       "Ташкент       10264.697826\n",
       "Андижан        7641.636015\n",
       "Нурафшон       7495.263158\n",
       "Термез         7192.381503\n",
       "Ургенч         7133.555332\n",
       "Карши          6995.470859\n",
       "Кунград        6978.454545\n",
       "Самарканд      6932.204831\n",
       "Нукус          6771.582822\n",
       "Бухара         6655.521839\n",
       "Наманган       6627.041020\n",
       "Коканд         6611.085000\n",
       "Фергана        6594.565163\n",
       "г. Фергана     6548.538462\n",
       "Чирчик         6282.648810\n",
       "Денау          6272.263889\n",
       "Гулистан       6178.352459\n",
       "Зарафшан       6050.314286\n",
       "Джизак         6031.825000\n",
       "Ширин          6005.555556\n",
       "Навои          5863.652174\n",
       "Сырдарья       5786.655172\n",
       "Ангрен         5514.781818\n",
       "г. Ахангаран   5500.000000\n",
       "Беруни         5376.387097\n",
       "Алмалык        5334.600000\n",
       "Янгиюль        5288.945455\n",
       "Тахиаташ       5251.200000\n",
       "Бекабад        5197.211268\n",
       "Ханабад        5173.666667\n",
       "Каган          5154.857143\n",
       "Шахрисабз      5135.523256\n",
       "Маргилан       4938.639344\n",
       "Чиназ          4745.450000\n",
       "Янгиер         4538.608696\n",
       "Ахангаран      4534.176471\n",
       "Кувасай        3895.454545"
      ]
     },
     "execution_count": 24,
     "metadata": {},
     "output_type": "execute_result"
    }
   ],
   "source": [
    "cityPriceDF = citiesDF[['price', 'Город']] #splitting columns Price and City from the whole table\n",
    "avgValue = cityPriceDF.groupby(['Город']).mean() #grouping table by City\n",
    "avgValue.sort_values('price', ascending=False) #sorting groupped table in descending order"
   ]
  },
  {
   "cell_type": "code",
   "execution_count": 25,
   "metadata": {},
   "outputs": [
    {
     "data": {
      "text/html": [
       "<div>\n",
       "<style scoped>\n",
       "    .dataframe tbody tr th:only-of-type {\n",
       "        vertical-align: middle;\n",
       "    }\n",
       "\n",
       "    .dataframe tbody tr th {\n",
       "        vertical-align: top;\n",
       "    }\n",
       "\n",
       "    .dataframe thead th {\n",
       "        text-align: right;\n",
       "    }\n",
       "</style>\n",
       "<table border=\"1\" class=\"dataframe\">\n",
       "  <thead>\n",
       "    <tr style=\"text-align: right;\">\n",
       "      <th></th>\n",
       "      <th>price</th>\n",
       "    </tr>\n",
       "    <tr>\n",
       "      <th>Город</th>\n",
       "      <th></th>\n",
       "    </tr>\n",
       "  </thead>\n",
       "  <tbody>\n",
       "    <tr>\n",
       "      <th>Чиназский район</th>\n",
       "      <td>28440.750000</td>\n",
       "    </tr>\n",
       "    <tr>\n",
       "      <th>Навбахорский район</th>\n",
       "      <td>11250.823529</td>\n",
       "    </tr>\n",
       "    <tr>\n",
       "      <th>Куштепенский район</th>\n",
       "      <td>10000.000000</td>\n",
       "    </tr>\n",
       "    <tr>\n",
       "      <th>Чустский район</th>\n",
       "      <td>9453.350877</td>\n",
       "    </tr>\n",
       "    <tr>\n",
       "      <th>Наманганский район</th>\n",
       "      <td>9214.833333</td>\n",
       "    </tr>\n",
       "    <tr>\n",
       "      <th>...</th>\n",
       "      <td>...</td>\n",
       "    </tr>\n",
       "    <tr>\n",
       "      <th>Шараф-Рашидовский район</th>\n",
       "      <td>2072.000000</td>\n",
       "    </tr>\n",
       "    <tr>\n",
       "      <th>Кегейлийский район</th>\n",
       "      <td>2051.375000</td>\n",
       "    </tr>\n",
       "    <tr>\n",
       "      <th>Бойсунский район</th>\n",
       "      <td>2000.000000</td>\n",
       "    </tr>\n",
       "    <tr>\n",
       "      <th>Муйнакский район</th>\n",
       "      <td>1929.000000</td>\n",
       "    </tr>\n",
       "    <tr>\n",
       "      <th>Пахтачинский район</th>\n",
       "      <td>1736.000000</td>\n",
       "    </tr>\n",
       "  </tbody>\n",
       "</table>\n",
       "<p>163 rows × 1 columns</p>\n",
       "</div>"
      ],
      "text/plain": [
       "                                price\n",
       "Город                                \n",
       "Чиназский район          28440.750000\n",
       "Навбахорский район       11250.823529\n",
       "Куштепенский район       10000.000000\n",
       "Чустский район            9453.350877\n",
       "Наманганский район        9214.833333\n",
       "...                               ...\n",
       "Шараф-Рашидовский район   2072.000000\n",
       "Кегейлийский район        2051.375000\n",
       "Бойсунский район          2000.000000\n",
       "Муйнакский район          1929.000000\n",
       "Пахтачинский район        1736.000000\n",
       "\n",
       "[163 rows x 1 columns]"
      ]
     },
     "execution_count": 25,
     "metadata": {},
     "output_type": "execute_result"
    }
   ],
   "source": [
    "regionPriceDF = regionsDF[['price', 'Город']] #splitting columns Price and Region from the whole table \n",
    "avgValue = regionPriceDF.groupby(['Город']).mean() #grouping table by Region\n",
    "avgValue.sort_values('price', ascending=False) #sorting groupped table in descending order"
   ]
  },
  {
   "cell_type": "markdown",
   "metadata": {},
   "source": [
    "------------------------------------------------------------------------------------------"
   ]
  },
  {
   "cell_type": "markdown",
   "metadata": {},
   "source": [
    "## 6) What is the average price of top-10 most popular cars in cities and regions separatly."
   ]
  },
  {
   "cell_type": "code",
   "execution_count": 26,
   "metadata": {},
   "outputs": [
    {
     "data": {
      "text/plain": [
       "Chevrolet        8496\n",
       "ВАЗ (Lada)       2723\n",
       "Daewoo           2045\n",
       "ГАЗ               546\n",
       "Mercedes-Benz     364\n",
       "Москвич           283\n",
       "Hyundai           267\n",
       "Ravon             237\n",
       "Kia               182\n",
       "Toyota            131\n",
       "Name: brand, dtype: int64"
      ]
     },
     "execution_count": 26,
     "metadata": {},
     "output_type": "execute_result"
    }
   ],
   "source": [
    "topBrands = citiesDF['brand'].value_counts()[:10] #top-10 brands in cities\n",
    "topBrands"
   ]
  },
  {
   "cell_type": "code",
   "execution_count": 58,
   "metadata": {},
   "outputs": [
    {
     "data": {
      "text/html": [
       "<div>\n",
       "<style scoped>\n",
       "    .dataframe tbody tr th:only-of-type {\n",
       "        vertical-align: middle;\n",
       "    }\n",
       "\n",
       "    .dataframe tbody tr th {\n",
       "        vertical-align: top;\n",
       "    }\n",
       "\n",
       "    .dataframe thead th {\n",
       "        text-align: right;\n",
       "    }\n",
       "</style>\n",
       "<table border=\"1\" class=\"dataframe\">\n",
       "  <thead>\n",
       "    <tr style=\"text-align: right;\">\n",
       "      <th></th>\n",
       "      <th>price</th>\n",
       "    </tr>\n",
       "    <tr>\n",
       "      <th>brand</th>\n",
       "      <th></th>\n",
       "    </tr>\n",
       "  </thead>\n",
       "  <tbody>\n",
       "    <tr>\n",
       "      <th>Ferrari</th>\n",
       "      <td>200000.000000</td>\n",
       "    </tr>\n",
       "    <tr>\n",
       "      <th>Maserati</th>\n",
       "      <td>92500.000000</td>\n",
       "    </tr>\n",
       "    <tr>\n",
       "      <th>Porsche</th>\n",
       "      <td>87000.000000</td>\n",
       "    </tr>\n",
       "    <tr>\n",
       "      <th>NIO</th>\n",
       "      <td>71788.000000</td>\n",
       "    </tr>\n",
       "    <tr>\n",
       "      <th>Tesla</th>\n",
       "      <td>69048.300000</td>\n",
       "    </tr>\n",
       "    <tr>\n",
       "      <th>...</th>\n",
       "      <td>...</td>\n",
       "    </tr>\n",
       "    <tr>\n",
       "      <th>РАФ</th>\n",
       "      <td>2168.333333</td>\n",
       "    </tr>\n",
       "    <tr>\n",
       "      <th>ИЖ</th>\n",
       "      <td>1785.764706</td>\n",
       "    </tr>\n",
       "    <tr>\n",
       "      <th>ЛуАЗ</th>\n",
       "      <td>1613.250000</td>\n",
       "    </tr>\n",
       "    <tr>\n",
       "      <th>Москвич</th>\n",
       "      <td>1506.106007</td>\n",
       "    </tr>\n",
       "    <tr>\n",
       "      <th>Dacia</th>\n",
       "      <td>1200.000000</td>\n",
       "    </tr>\n",
       "  </tbody>\n",
       "</table>\n",
       "<p>80 rows × 1 columns</p>\n",
       "</div>"
      ],
      "text/plain": [
       "                  price\n",
       "brand                  \n",
       "Ferrari   200000.000000\n",
       "Maserati   92500.000000\n",
       "Porsche    87000.000000\n",
       "NIO        71788.000000\n",
       "Tesla      69048.300000\n",
       "...                 ...\n",
       "РАФ         2168.333333\n",
       "ИЖ          1785.764706\n",
       "ЛуАЗ        1613.250000\n",
       "Москвич     1506.106007\n",
       "Dacia       1200.000000\n",
       "\n",
       "[80 rows x 1 columns]"
      ]
     },
     "execution_count": 58,
     "metadata": {},
     "output_type": "execute_result"
    }
   ],
   "source": [
    "cityTop = citiesDF[['brand', 'price']] #splitting brand and price columns from whole table\n",
    "avgValue = cityTop.groupby(['brand']).mean() #grouping by brand and getting average value\n",
    "avgValue = avgValue.sort_values(\"price\",ascending=False) #sorting average vaues in descending order\n",
    "avgValue"
   ]
  },
  {
   "cell_type": "code",
   "execution_count": 59,
   "metadata": {},
   "outputs": [
    {
     "data": {
      "text/plain": [
       "<matplotlib.axes._subplots.AxesSubplot at 0x7fd5d736add0>"
      ]
     },
     "execution_count": 59,
     "metadata": {},
     "output_type": "execute_result"
    },
    {
     "data": {
      "image/png": "[encoded data removed]",
      "text/plain": [
       "<Figure size 432x288 with 1 Axes>"
      ]
     },
     "metadata": {
      "needs_background": "light"
     },
     "output_type": "display_data"
    }
   ],
   "source": [
    "avgValue[:10].plot.bar() #showing top 10 average value"
   ]
  },
  {
   "cell_type": "code",
   "execution_count": 60,
   "metadata": {},
   "outputs": [
    {
     "data": {
      "text/plain": [
       "Chevrolet        1491\n",
       "ВАЗ (Lada)        820\n",
       "Daewoo            678\n",
       "ГАЗ               159\n",
       "Москвич           131\n",
       "Mercedes-Benz      46\n",
       "УАЗ                38\n",
       "Ravon              28\n",
       "Ford               24\n",
       "Kia                21\n",
       "Name: brand, dtype: int64"
      ]
     },
     "execution_count": 60,
     "metadata": {},
     "output_type": "execute_result"
    }
   ],
   "source": [
    "topBrands = regionsDF['brand'].value_counts()[:10] #top-10 brands in regions\n",
    "topBrands"
   ]
  },
  {
   "cell_type": "code",
   "execution_count": 63,
   "metadata": {},
   "outputs": [],
   "source": [
    "regionTop = regionsDF[['brand', 'price']] #splitting brand and price columns from whole table\n",
    "avgValue = regionTop.groupby(['brand']).mean() #grouping by brand and getting average value\n",
    "avgValue = avgValue.sort_values(\"price\",ascending=False) #sorting average vaues in descending order"
   ]
  },
  {
   "cell_type": "code",
   "execution_count": 64,
   "metadata": {},
   "outputs": [
    {
     "data": {
      "text/plain": [
       "<matplotlib.axes._subplots.AxesSubplot at 0x7fd5d7275810>"
      ]
     },
     "execution_count": 64,
     "metadata": {},
     "output_type": "execute_result"
    },
    {
     "data": {
      "image/png": "[encoded data removed]",
      "text/plain": [
       "<Figure size 432x288 with 1 Axes>"
      ]
     },
     "metadata": {
      "needs_background": "light"
     },
     "output_type": "display_data"
    }
   ],
   "source": [
    "avgValue[:10].plot.bar()  #showing top 10 average value"
   ]
  },
  {
   "cell_type": "markdown",
   "metadata": {},
   "source": [
    "------------------------------------------------------------------------------------------"
   ]
  },
  {
   "cell_type": "markdown",
   "metadata": {},
   "source": [
    "## 7) How top-3 cars behave"
   ]
  },
  {
   "cell_type": "code",
   "execution_count": 77,
   "metadata": {},
   "outputs": [
    {
     "data": {
      "text/html": [
       "<div>\n",
       "<style scoped>\n",
       "    .dataframe tbody tr th:only-of-type {\n",
       "        vertical-align: middle;\n",
       "    }\n",
       "\n",
       "    .dataframe tbody tr th {\n",
       "        vertical-align: top;\n",
       "    }\n",
       "\n",
       "    .dataframe thead th {\n",
       "        text-align: right;\n",
       "    }\n",
       "</style>\n",
       "<table border=\"1\" class=\"dataframe\">\n",
       "  <thead>\n",
       "    <tr style=\"text-align: right;\">\n",
       "      <th></th>\n",
       "      <th>price</th>\n",
       "    </tr>\n",
       "    <tr>\n",
       "      <th>brand</th>\n",
       "      <th></th>\n",
       "    </tr>\n",
       "  </thead>\n",
       "  <tbody>\n",
       "    <tr>\n",
       "      <th>Ferrari</th>\n",
       "      <td>200000.000000</td>\n",
       "    </tr>\n",
       "    <tr>\n",
       "      <th>Maserati</th>\n",
       "      <td>92500.000000</td>\n",
       "    </tr>\n",
       "    <tr>\n",
       "      <th>Porsche</th>\n",
       "      <td>87000.000000</td>\n",
       "    </tr>\n",
       "    <tr>\n",
       "      <th>NIO</th>\n",
       "      <td>71788.000000</td>\n",
       "    </tr>\n",
       "    <tr>\n",
       "      <th>Tesla</th>\n",
       "      <td>69048.300000</td>\n",
       "    </tr>\n",
       "    <tr>\n",
       "      <th>...</th>\n",
       "      <td>...</td>\n",
       "    </tr>\n",
       "    <tr>\n",
       "      <th>ARO</th>\n",
       "      <td>1945.500000</td>\n",
       "    </tr>\n",
       "    <tr>\n",
       "      <th>ИЖ</th>\n",
       "      <td>1760.947368</td>\n",
       "    </tr>\n",
       "    <tr>\n",
       "      <th>ЛуАЗ</th>\n",
       "      <td>1702.000000</td>\n",
       "    </tr>\n",
       "    <tr>\n",
       "      <th>Москвич</th>\n",
       "      <td>1488.463768</td>\n",
       "    </tr>\n",
       "    <tr>\n",
       "      <th>Dacia</th>\n",
       "      <td>1200.000000</td>\n",
       "    </tr>\n",
       "  </tbody>\n",
       "</table>\n",
       "<p>82 rows × 1 columns</p>\n",
       "</div>"
      ],
      "text/plain": [
       "                  price\n",
       "brand                  \n",
       "Ferrari   200000.000000\n",
       "Maserati   92500.000000\n",
       "Porsche    87000.000000\n",
       "NIO        71788.000000\n",
       "Tesla      69048.300000\n",
       "...                 ...\n",
       "ARO         1945.500000\n",
       "ИЖ          1760.947368\n",
       "ЛуАЗ        1702.000000\n",
       "Москвич     1488.463768\n",
       "Dacia       1200.000000\n",
       "\n",
       "[82 rows x 1 columns]"
      ]
     },
     "execution_count": 77,
     "metadata": {},
     "output_type": "execute_result"
    }
   ],
   "source": [
    "brandPriceDF = advertsDF[['brand', 'price']]  #splitting brand and price from whole table\n",
    "avgValue = brandPriceDF.groupby(['brand']).mean() #grouping by brand\n",
    "avgValue = avgValue.sort_values('price', ascending=False) #sorting in descending order\n",
    "avgValue"
   ]
  },
  {
   "cell_type": "code",
   "execution_count": 78,
   "metadata": {},
   "outputs": [
    {
     "name": "stdout",
     "output_type": "stream",
     "text": [
      "Chevrolet  - place:  45  avgPrice:  8561.489736657655\n",
      "ВАЗ (Lada) - place:  67  avgPrice:  3279.1123341800735\n",
      "Daewoo     - place:  62  avgPrice:  4121.283143591627\n"
     ]
    }
   ],
   "source": [
    "brandsSorted = avgValue.index.values #getting sorted brands names\n",
    "resultChevrolet = np.where(brandsSorted == 'Chevrolet')[0][0] #getting index of Chevrolet from brands\n",
    "resultLada = np.where(brandsSorted == 'ВАЗ (Lada)')[0][0] #getting index of Chevrolet from brands\n",
    "resultDaewoo = np.where(brandsSorted == 'Daewoo')[0][0] #getting index of Daewoo from brands\n",
    "print(\"Chevrolet  - place: \", resultChevrolet, \" avgPrice: \", avgValue.iloc[resultChevrolet][0]) #printing index and average value of Chevrolet\n",
    "print(\"ВАЗ (Lada) - place: \", resultLada, \" avgPrice: \", avgValue.iloc[resultLada][0]) #printing index and average value of ВАЗ (Lada)\n",
    "print(\"Daewoo     - place: \", resultDaewoo, \" avgPrice: \", avgValue.iloc[resultDaewoo][0]) #printing index and average value of Daewoo"
   ]
  },
  {
   "cell_type": "code",
   "execution_count": 75,
   "metadata": {},
   "outputs": [
    {
     "data": {
      "image/png": "[encoded data removed]",
      "text/plain": [
       "<Figure size 432x288 with 1 Axes>"
      ]
     },
     "metadata": {
      "needs_background": "light"
     },
     "output_type": "display_data"
    }
   ],
   "source": [
    "cities = citiesDF.groupby('Город') #grouping by cities\n",
    "arr=[] #array for storing values of top-3 cars\n",
    "for i in citiesValueCounts.keys().tolist(): #looping cities\n",
    "    citiyBrands = cities.get_group(i)['brand'].tolist() #getting cars for city\n",
    "    countChevrolet, countLada, countDaewoo = 0, 0, 0 #initialising result values for top-3 cars\n",
    "    for j in citiyBrands: #looping brands\n",
    "        if j == 'Chevrolet':\n",
    "            countChevrolet = countChevrolet + 1 #if Chevrloet found then incrementing\n",
    "        if j == 'ВАЗ (Lada)':\n",
    "            countLada = countLada + 1 #if ВАЗ (Lada) found then incrementing\n",
    "        if j == 'Daewoo':\n",
    "            countDaewoo = countDaewoo + 1 #if Daewoo found then incrementing\n",
    "    arr.append([countChevrolet, countLada, countDaewoo]) #storing values\n",
    "    # now we have 10x3 matrix storing car adverts per city\n",
    "    \n",
    "#we need to reshape 10x3 to 3x10 matrix to visualize as diagram\n",
    "result = [] #arrow for storing values of top-3 cars\n",
    "for i in range(3): #looping top-3 cars\n",
    "    temp = [] #temporary array to store value\n",
    "    for j in arr: #looping previous array\n",
    "        temp.append(j[i]) \n",
    "    result.append(temp)\n",
    "    #here we have 10x3 array \n",
    "\n",
    "x = np.arange(10) #creating 10 items\n",
    "citiesNames = citiesValueCounts.keys().tolist() #getting cities names \n",
    "plt.barh(x + 0.00, result[0], color = \"b\", height = 0.25, label = \"Chevrolet\") #drawing Chevrolet value \n",
    "plt.barh(x + 0.25, result[1], color = \"r\", height = 0.25, label = \"ВАЗ (LADA)\") #drawing ВАЗ (LADA) value\n",
    "plt.barh(x + 0.5, result[2], color = \"g\", height = 0.25, label = \"Daewoo\") #drawing Daewoo value\n",
    "plt.title(\"Top cars by top cities\", fontsize = 20) #setting title for diagram\n",
    "plt.yticks(x, citiesNames) #setting cities names\n",
    "plt.legend(fontsize = 15, loc = (1.05, 0.4)) #configurong diagram with size\n",
    "plt.show() #showing diagram"
   ]
  },
  {
   "cell_type": "code",
   "execution_count": 3,
   "metadata": {},
   "outputs": [
    {
     "ename": "NameError",
     "evalue": "name 'pd' is not defined",
     "output_type": "error",
     "traceback": [
      "\u001b[1;31m---------------------------------------------------------------------------\u001b[0m",
      "\u001b[1;31mNameError\u001b[0m                                 Traceback (most recent call last)",
      "\u001b[1;32m<ipython-input-3-3f4d06e8b9b5>\u001b[0m in \u001b[0;36m<module>\u001b[1;34m\u001b[0m\n\u001b[1;32m----> 1\u001b[1;33m \u001b[0mpd\u001b[0m\u001b[1;33m.\u001b[0m\u001b[0mread_csv\u001b[0m\u001b[1;33m(\u001b[0m\u001b[1;34m'list.csv'\u001b[0m\u001b[1;33m)\u001b[0m\u001b[1;33m.\u001b[0m\u001b[0mto_csv\u001b[0m\u001b[1;33m(\u001b[0m\u001b[1;34m'modified.csv'\u001b[0m\u001b[1;33m,\u001b[0m \u001b[0mindex\u001b[0m\u001b[1;33m=\u001b[0m\u001b[1;32mFalse\u001b[0m\u001b[1;33m,\u001b[0m \u001b[0msep\u001b[0m\u001b[1;33m=\u001b[0m\u001b[1;34m';'\u001b[0m\u001b[1;33m)\u001b[0m\u001b[1;33m\u001b[0m\u001b[1;33m\u001b[0m\u001b[0m\n\u001b[0m",
      "\u001b[1;31mNameError\u001b[0m: name 'pd' is not defined"
     ]
    }
   ],
   "source": [
    "pd.read_csv('list.csv').to_csv('modified.csv', index=False, sep=';')"
   ]
  },
  {
   "cell_type": "markdown",
   "metadata": {},
   "source": [
    "------------------------------------------------------------------------------------------"
   ]
  }
 ],
 "metadata": {
  "kernelspec": {
   "display_name": "Python 3",
   "language": "python",
   "name": "python3"
  },
  "language_info": {
   "codemirror_mode": {
    "name": "ipython",
    "version": 3
   },
   "file_extension": ".py",
   "mimetype": "text/x-python",
   "name": "python",
   "nbconvert_exporter": "python",
   "pygments_lexer": "ipython3",
   "version": "3.7.3"
  }
 },
 "nbformat": 4,
 "nbformat_minor": 4
}
